{
 "cells": [
  {
   "cell_type": "code",
   "execution_count": 3,
   "metadata": {},
   "outputs": [],
   "source": [
    "import cv2\n",
    "import numpy as np\n",
    "import pandas as pd\n",
    "import face_recognition\n",
    "import matplotlib\n",
    "import os\n",
    "import time\n",
    "from datetime import datetime"
   ]
  },
  {
   "cell_type": "code",
   "execution_count": 4,
   "metadata": {},
   "outputs": [
    {
     "name": "stdout",
     "output_type": "stream",
     "text": [
      "['Abhi Bishnoi.jpg', 'Abhishek.jpg', 'Aniket.jpg', 'Arpit Agrawal.jpg', 'Atishay.jpg', 'Awanish.jpg', 'Bhushan.jpg', 'Dev kishan.jpg', 'Dharam Singh.jpg', 'Jai Soni.jpg', 'Kajal Agrawal.jpg', 'kiara_advani.jpg', 'Krithi Shetty.jpg', 'Mahinder.jpg', 'Mukesh.jpg', 'Om Prakash.jpg', 'Pradeep.jpg', 'Radhe Shyam.jpg', 'rakul_preet.jpg', 'Raushan.jpg', 'Rithik.jpg', 'Samantha.jpg', 'Sandeep.jpg', 'shruti hasan.jpg', 'sushant.jpg', 'Sushil.jpg', 'vibhusit.jpg', 'Vikas Soni.jpg', 'Vikas.jpg', 'Vinod.jpg']\n"
     ]
    }
   ],
   "source": [
    "path='images'\n",
    "images = []\n",
    "personNames =[] \n",
    "myList = os.listdir(path)\n",
    "print(myList)"
   ]
  },
  {
   "cell_type": "code",
   "execution_count": 5,
   "metadata": {},
   "outputs": [
    {
     "name": "stdout",
     "output_type": "stream",
     "text": [
      "['Abhi Bishnoi', 'Abhishek', 'Aniket', 'Arpit Agrawal', 'Atishay', 'Awanish', 'Bhushan', 'Dev kishan', 'Dharam Singh', 'Jai Soni', 'Kajal Agrawal', 'kiara_advani', 'Krithi Shetty', 'Mahinder', 'Mukesh', 'Om Prakash', 'Pradeep', 'Radhe Shyam', 'rakul_preet', 'Raushan', 'Rithik', 'Samantha', 'Sandeep', 'shruti hasan', 'sushant', 'Sushil', 'vibhusit', 'Vikas Soni', 'Vikas', 'Vinod']\n"
     ]
    }
   ],
   "source": [
    "for cu_img in myList:\n",
    "    current_Img = cv2.imread(f'{path}/{cu_img}')\n",
    "    images.append(current_Img)\n",
    "    personNames.append(os.path.splitext(cu_img)[0])\n",
    "print(personNames)\n"
   ]
  },
  {
   "cell_type": "code",
   "execution_count": 6,
   "metadata": {},
   "outputs": [],
   "source": [
    "def faceEncodings(images):\n",
    "    encodeList = []\n",
    "    i=1\n",
    "    for img in images:\n",
    "        img = cv2.cvtColor(img, cv2.COLOR_BGR2RGB)\n",
    "        encode = face_recognition.face_encodings(img)[0]\n",
    "        print(\"->\" ,i)\n",
    "        i=i+1\n",
    "        encodeList.append(encode)\n",
    "    return encodeList"
   ]
  },
  {
   "cell_type": "code",
   "execution_count": 7,
   "metadata": {},
   "outputs": [],
   "source": [
    "def attendance(name):\n",
    "    with open('Attendance.csv', 'r+') as f:\n",
    "        myDataList = f.readlines()\n",
    "        nameList = []\n",
    "        for line in myDataList:\n",
    "            entry = line.split(',')\n",
    "            nameList.append(entry[0])\n",
    "        if name not in nameList:\n",
    "            time_now = datetime.now()\n",
    "            tStr = time_now.strftime('%H:%M:%S')\n",
    "            dStr = time_now.strftime('%d/%m/%Y')\n",
    "            f.writelines(f'\\n{name},{tStr},{dStr}')"
   ]
  },
  {
   "cell_type": "code",
   "execution_count": 8,
   "metadata": {},
   "outputs": [
    {
     "name": "stdout",
     "output_type": "stream",
     "text": [
      "-> 1\n",
      "-> 2\n",
      "-> 3\n",
      "-> 4\n",
      "-> 5\n",
      "-> 6\n",
      "-> 7\n",
      "-> 8\n",
      "-> 9\n",
      "-> 10\n",
      "-> 11\n",
      "-> 12\n",
      "-> 13\n",
      "-> 14\n",
      "-> 15\n",
      "-> 16\n",
      "-> 17\n",
      "-> 18\n",
      "-> 19\n",
      "-> 20\n",
      "-> 21\n",
      "-> 22\n",
      "-> 23\n",
      "-> 24\n",
      "-> 25\n",
      "-> 26\n",
      "-> 27\n",
      "-> 28\n",
      "-> 29\n",
      "-> 30\n",
      "All Encodings Complete!!!\n",
      "Execution time for face encodings :  47.60145425796509  Seconds\n"
     ]
    }
   ],
   "source": [
    "st=time.time()\n",
    "encodeListKnown = faceEncodings(images)\n",
    "print('All Encodings Complete!!!')\n",
    "et=time.time()\n",
    "print(\"Execution time for face encodings : \",et-st, \" Seconds\")"
   ]
  },
  {
   "cell_type": "code",
   "execution_count": 9,
   "metadata": {},
   "outputs": [
    {
     "ename": "error",
     "evalue": "OpenCV(4.6.0) :-1: error: (-5:Bad argument) in function 'putText'\n> Overload resolution failed:\n>  - Argument 'thickness' is required to be an integer\n>  - Argument 'thickness' is required to be an integer\n",
     "output_type": "error",
     "traceback": [
      "\u001b[1;31m---------------------------------------------------------------------------\u001b[0m",
      "\u001b[1;31merror\u001b[0m                                     Traceback (most recent call last)",
      "\u001b[1;32mc:\\Users\\abhis\\OneDrive\\Desktop\\vs_code\\faceDetection.ipynb Cell 7\u001b[0m in \u001b[0;36m<cell line: 3>\u001b[1;34m()\u001b[0m\n\u001b[0;32m     <a href='vscode-notebook-cell:/c%3A/Users/abhis/OneDrive/Desktop/vs_code/faceDetection.ipynb#ch0000006?line=21'>22</a>\u001b[0m         cv2\u001b[39m.\u001b[39mrectangle(frame, (x1, y1), (x2, y2), (\u001b[39m0\u001b[39m, \u001b[39m0\u001b[39m, \u001b[39m255\u001b[39m), \u001b[39m2\u001b[39m)\n\u001b[0;32m     <a href='vscode-notebook-cell:/c%3A/Users/abhis/OneDrive/Desktop/vs_code/faceDetection.ipynb#ch0000006?line=22'>23</a>\u001b[0m         cv2\u001b[39m.\u001b[39mrectangle(frame, (x1, y2 \u001b[39m-\u001b[39m \u001b[39m35\u001b[39m), (x2, y2), (\u001b[39m0\u001b[39m, \u001b[39m0\u001b[39m, \u001b[39m255\u001b[39m), cv2\u001b[39m.\u001b[39mFILLED)\n\u001b[1;32m---> <a href='vscode-notebook-cell:/c%3A/Users/abhis/OneDrive/Desktop/vs_code/faceDetection.ipynb#ch0000006?line=23'>24</a>\u001b[0m         cv2\u001b[39m.\u001b[39;49mputText(frame, name, (x1 \u001b[39m+\u001b[39;49m \u001b[39m6\u001b[39;49m, y2 \u001b[39m-\u001b[39;49m \u001b[39m6\u001b[39;49m), cv2\u001b[39m.\u001b[39;49mFONT_HERSHEY_COMPLEX, \u001b[39m0.75\u001b[39;49m, (\u001b[39m255\u001b[39;49m, \u001b[39m255\u001b[39;49m, \u001b[39m255\u001b[39;49m), \u001b[39m1.75\u001b[39;49m)\n\u001b[0;32m     <a href='vscode-notebook-cell:/c%3A/Users/abhis/OneDrive/Desktop/vs_code/faceDetection.ipynb#ch0000006?line=24'>25</a>\u001b[0m         attendance(name)\n\u001b[0;32m     <a href='vscode-notebook-cell:/c%3A/Users/abhis/OneDrive/Desktop/vs_code/faceDetection.ipynb#ch0000006?line=26'>27</a>\u001b[0m cv2\u001b[39m.\u001b[39mimshow(\u001b[39m'\u001b[39m\u001b[39mcam\u001b[39m\u001b[39m'\u001b[39m, frame)\n",
      "\u001b[1;31merror\u001b[0m: OpenCV(4.6.0) :-1: error: (-5:Bad argument) in function 'putText'\n> Overload resolution failed:\n>  - Argument 'thickness' is required to be an integer\n>  - Argument 'thickness' is required to be an integer\n"
     ]
    },
    {
     "ename": "",
     "evalue": "",
     "output_type": "error",
     "traceback": [
      "\u001b[1;31mThe Kernel crashed while executing code in the the current cell or a previous cell. Please review the code in the cell(s) to identify a possible cause of the failure. Click <a href='https://aka.ms/vscodeJupyterKernelCrash'>here</a> for more info. View Jupyter <a href='command:jupyter.viewOutput'>log</a> for further details."
     ]
    }
   ],
   "source": [
    "\n",
    "cap = cv2.VideoCapture(0)\n",
    "\n",
    "while True:\n",
    "    ret, frame = cap.read()\n",
    "    faces = cv2.resize(frame, (0, 0), None, 0.25, 0.25)\n",
    "    faces = cv2.cvtColor(faces, cv2.COLOR_BGR2RGB)\n",
    "\n",
    "    facesCurrentFrame = face_recognition.face_locations(faces)\n",
    "    encodesCurrentFrame = face_recognition.face_encodings(faces, facesCurrentFrame)\n",
    "\n",
    "    for encodeFace, faceLoc in zip(encodesCurrentFrame, facesCurrentFrame):\n",
    "        matches = face_recognition.compare_faces(encodeListKnown, encodeFace)\n",
    "        faceDis = face_recognition.face_distance(encodeListKnown, encodeFace)\n",
    "        # print(faceDis)\n",
    "        matchIndex = np.argmin(faceDis)\n",
    "\n",
    "        if matches[matchIndex]:\n",
    "            name = personNames[matchIndex].upper() \n",
    "            # print(name)\n",
    "            y1, x2, y2, x1 = faceLoc\n",
    "            y1, x2, y2, x1 = y1 * 4, x2 * 4, y2 * 4, x1 * 4\n",
    "            cv2.rectangle(frame, (x1, y1), (x2, y2), (0, 0, 255), 2)\n",
    "            cv2.rectangle(frame, (x1, y2 - 35), (x2, y2), (0, 0, 255), cv2.FILLED)\n",
    "            cv2.putText(frame, name, (x1 + 6, y2 - 6), cv2.FONT_HERSHEY_COMPLEX, 0.75, (255, 255, 255), 2)\n",
    "            attendance(name)\n",
    "\n",
    "    cv2.imshow('cam', frame)\n",
    "    if cv2.waitKey(1) == 27:\n",
    "        break\n",
    "\n",
    "cap.release()\n",
    "cv2.destroyAllWindows()"
   ]
  },
  {
   "cell_type": "code",
   "execution_count": null,
   "metadata": {},
   "outputs": [],
   "source": []
  }
 ],
 "metadata": {
  "kernelspec": {
   "display_name": "Python 3.10.5 64-bit",
   "language": "python",
   "name": "python3"
  },
  "language_info": {
   "codemirror_mode": {
    "name": "ipython",
    "version": 3
   },
   "file_extension": ".py",
   "mimetype": "text/x-python",
   "name": "python",
   "nbconvert_exporter": "python",
   "pygments_lexer": "ipython3",
   "version": "3.10.5"
  },
  "orig_nbformat": 4,
  "vscode": {
   "interpreter": {
    "hash": "369f2c481f4da34e4445cda3fffd2e751bd1c4d706f27375911949ba6bb62e1c"
   }
  }
 },
 "nbformat": 4,
 "nbformat_minor": 2
}

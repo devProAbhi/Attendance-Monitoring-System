{
 "cells": [
  {
   "cell_type": "code",
   "execution_count": 9,
   "id": "8d753e15",
   "metadata": {},
   "outputs": [],
   "source": [
    "#importing library\n",
    "import requests"
   ]
  },
  {
   "cell_type": "markdown",
   "id": "be6ad6d9",
   "metadata": {},
   "source": [
    "Attendance record which we got from running the script \"Face_Recognition.py\" and which stored in CSV file \"Attendance.csv\"\n",
    "Now we have to send it to Telegram group"
   ]
  },
  {
   "cell_type": "code",
   "execution_count": 10,
   "id": "0ca52d5b",
   "metadata": {},
   "outputs": [],
   "source": [
    "#sending attendance file on Telegram group by using 'request' library\n",
    "csv={'document':open(\"Attendance.csv\",'rb')}\n",
    "resp=requests.post('https://api.telegram.org/bot5548975991:<token>/sendDocument?chat_id=-624915028',files=csv)"
   ]
  },
  {
   "cell_type": "code",
   "execution_count": 11,
   "id": "2ee61cc4",
   "metadata": {},
   "outputs": [],
   "source": [
    "cv2.waitKey(0)\n",
    "cv2.destroyAllWindows()"
   ]
  },
  {
   "cell_type": "code",
   "execution_count": null,
   "id": "d4e8447c",
   "metadata": {},
   "outputs": [],
   "source": []
  },
  {
   "cell_type": "code",
   "execution_count": null,
   "id": "7c492cb8",
   "metadata": {},
   "outputs": [],
   "source": []
  }
 ],
 "metadata": {
  "kernelspec": {
   "display_name": "Python 3 (ipykernel)",
   "language": "python",
   "name": "python3"
  },
  "language_info": {
   "codemirror_mode": {
    "name": "ipython",
    "version": 3
   },
   "file_extension": ".py",
   "mimetype": "text/x-python",
   "name": "python",
   "nbconvert_exporter": "python",
   "pygments_lexer": "ipython3",
   "version": "3.9.12"
  }
 },
 "nbformat": 4,
 "nbformat_minor": 5
}
